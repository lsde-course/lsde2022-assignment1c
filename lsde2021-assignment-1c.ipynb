{
 "cells": [
  {
   "cell_type": "code",
   "execution_count": null,
   "metadata": {},
   "outputs": [],
   "source": [
    "from reorg import reorg\n",
    "from cruncher import cruncher\n",
    "from pyspark.sql.session import SparkSession\n",
    "\n",
    "spark = SparkSession.builder.getOrCreate()"
   ]
  },
  {
   "cell_type": "code",
   "execution_count": null,
   "metadata": {},
   "outputs": [],
   "source": [
    "datadir = \"/opt/lsde/dataset-sf100-csvs/\""
   ]
  },
  {
   "cell_type": "code",
   "execution_count": null,
   "metadata": {},
   "outputs": [],
   "source": [
    "%%time\n",
    "\n",
    "reorg(spark, datadir)"
   ]
  },
  {
   "cell_type": "code",
   "execution_count": null,
   "metadata": {},
   "outputs": [],
   "source": [
    "params = [\n",
    "    {\"qid\": 1, \"a1\": 2811, \"a2\": 1990, \"a3\": 5183, \"a4\": 1749, \"d1\": 409, \"d2\": 509},\n",
    "    {\"qid\": 2, \"a1\": 11254, \"a2\": 143, \"a3\": 2807, \"a4\": 2799, \"d1\": 430, \"d2\": 530},\n",
    "    {\"qid\": 3, \"a1\": 7517, \"a2\": 568, \"a3\": 2820, \"a4\": 6945, \"d1\": 730, \"d2\": 829},\n",
    "    {\"qid\": 4, \"a1\": 782, \"a2\": 2008, \"a3\": 1022, \"a4\": 8, \"d1\": 827, \"d2\": 926},\n",
    "    {\"qid\": 5, \"a1\": 206, \"a2\": 2837, \"a3\": 808, \"a4\": 7509, \"d1\": 423, \"d2\": 523},\n",
    "    {\"qid\": 6, \"a1\": 1998, \"a2\": 2812, \"a3\": 9474, \"a4\": 2803, \"d1\": 219, \"d2\": 321},\n",
    "    {\"qid\": 7, \"a1\": 1987, \"a2\": 12002, \"a3\": 1180, \"a4\": 2870, \"d1\": 1126, \"d2\": 1226},\n",
    "    {\"qid\": 8, \"a1\": 141, \"a2\": 9141, \"a3\": 6704, \"a4\": 2800, \"d1\": 910, \"d2\": 1010},\n",
    "    {\"qid\": 9, \"a1\": 565, \"a2\": 1989, \"a3\": 1023, \"a4\": 7380, \"d1\": 924, \"d2\": 1024},\n",
    "    {\"qid\": 10, \"a1\": 1183, \"a2\": 2059, \"a3\": 1179, \"a4\": 1985, \"d1\": 806, \"d2\": 905}\n",
    "]"
   ]
  },
  {
   "cell_type": "code",
   "execution_count": null,
   "metadata": {},
   "outputs": [],
   "source": [
    "%%time\n",
    "\n",
    "# by default, only test on first param\n",
    "p = params[0]\n",
    "print(f\"Processing Q{p['qid']}\")\n",
    "result = cruncher(spark, datadir, p[\"a1\"], p[\"a2\"], p[\"a3\"], p[\"a4\"], p[\"d1\"], p[\"d2\"])\n",
    "result.show()"
   ]
  }
 ],
 "metadata": {
  "kernelspec": {
   "display_name": "Python 3",
   "language": "python",
   "name": "python3"
  },
  "language_info": {
   "codemirror_mode": {
    "name": "ipython",
    "version": 3
   },
   "file_extension": ".py",
   "mimetype": "text/x-python",
   "name": "python",
   "nbconvert_exporter": "python",
   "pygments_lexer": "ipython3",
   "version": "3.8.5"
  }
 },
 "nbformat": 4,
 "nbformat_minor": 4
}
